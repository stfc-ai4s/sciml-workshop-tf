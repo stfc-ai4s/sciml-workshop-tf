{
 "cells": [
  {
   "cell_type": "markdown",
   "metadata": {
    "id": "0hjVNKY5cqPP"
   },
   "source": [
    "# LSTM: The basics\n",
    "\n",
    "In this notebook, we will learn the basics of a Long Short Term Memory (LSTM) based on [Keras](https://keras.io/), a high-level API for building and training deep learning models, running on top of [TensorFlow](https://www.tensorflow.org/), an open source platform for machine learning. \n",
    "\n",
    "We will build a basic LSTM to predict stock prices in the future. The data is provided in your training environment - but in future you can also access it in [this github repo](https://github.com/mwitiderrick/stockprice).\n",
    "\n",
    "### Contents\n",
    "\n",
    "1. [Converting and preparing data](#convert_data)\n",
    "2. [A multi-variate LSTM](#simple_lstm)"
   ]
  },
  {
   "cell_type": "code",
   "execution_count": 1,
   "metadata": {
    "id": "GYCCLvh0cqPU"
   },
   "outputs": [],
   "source": [
    "# Importing the libraries\n",
    "import numpy as np\n",
    "import matplotlib.pyplot as plt\n",
    "import pandas as pd\n",
    "\n",
    "from sklearn.preprocessing import MinMaxScaler\n",
    "\n",
    "from tensorflow.keras.models import Sequential\n",
    "from tensorflow.keras.layers import Dense\n",
    "from tensorflow.keras.layers import LSTM\n",
    "from tensorflow.keras.layers import Dropout\n",
    "\n",
    "plt.style.use('ggplot')"
   ]
  },
  {
   "cell_type": "markdown",
   "metadata": {
    "id": "o_KwpTqbcqPV"
   },
   "source": [
    "## Google Cloud Storage Boilerplate\n",
    "\n",
    "The following two cells have some boilerplate to mount the Google Cloud Storage bucket containing the data used for this notebook to your Google Colab file system. **Even you are not using Google Colab, please make sure you run these two cells.** \n",
    "\n",
    "To access the data from Google Colab, you need to:\n",
    "\n",
    "1. Run the first cell;\n",
    "2. Follow the link when prompted (you may be asked to log in with your Google account);\n",
    "3. Copy the Google SDK token back into the prompt and press `Enter`;\n",
    "4. Run the second cell and wait until the data folder appears.\n",
    "\n",
    "If everything works correctly, a new folder called `sciml-workshop-data` should appear in the file browser on the left. Depending on the network speed, this may take one or two minutes. Ignore the warning \"You do not appear to have access to project ...\". If you are running the notebook locally or you have already connected to the bucket, these cells will have no side effects."
   ]
  },
  {
   "cell_type": "code",
   "execution_count": 2,
   "metadata": {
    "id": "sLlCYCHFcqPW"
   },
   "outputs": [],
   "source": [
    "# variables passed to bash; do not change\n",
    "project_id = 'sciml-workshop'\n",
    "bucket_name = 'sciml-workshop'\n",
    "colab_data_path = '/content/sciml-workshop-data/'\n",
    "\n",
    "try:\n",
    "    from google.colab import auth\n",
    "    auth.authenticate_user()\n",
    "    google_colab_env = 'true'\n",
    "    data_path = colab_data_path + 'sciml-workshop/'\n",
    "except:\n",
    "    google_colab_env = 'false'\n",
    "    ###################################################\n",
    "    ######## specify your local data path here ########\n",
    "    ###################################################\n",
    "    with open('../local_data_path.txt', 'r') as f: data_path = f.read().splitlines()[0]"
   ]
  },
  {
   "cell_type": "code",
   "execution_count": 3,
   "metadata": {
    "colab": {
     "base_uri": "https://localhost:8080/"
    },
    "id": "USgu8B3WcqPX",
    "outputId": "fc878711-c094-46fa-e151-0158c6d81de2"
   },
   "outputs": [
    {
     "name": "stdout",
     "output_type": "stream",
     "text": [
      "Running notebook locally.\n"
     ]
    }
   ],
   "source": [
    "%%bash -s {google_colab_env} {colab_data_path} {bucket_name} \n",
    "\n",
    "# running locally\n",
    "if ! $1; then\n",
    "    echo \"Running notebook locally.\"\n",
    "    exit\n",
    "fi\n",
    "\n",
    "# already mounted\n",
    "if [ -d $2 ]; then\n",
    "    echo \"Data already mounted.\"\n",
    "    exit\n",
    "fi\n",
    "\n",
    "apt -qq update\n",
    "apt -qq install s3fs fuse\n",
    "mkdir -p $2\n",
    "s3fs $3 $2 -o allow_other,use_path_request_style,no_check_certificate,public_bucket=1,ssl_verify_hostname=0,host=https://s3.echo.stfc.ac.uk,url=https://s3.echo.stfc.ac.uk"
   ]
  },
  {
   "cell_type": "markdown",
   "metadata": {
    "id": "SUKycDDmcqPY"
   },
   "source": [
    "<a id='convert_data'></a>\n",
    "## Converting data to sequence structure\n",
    "\n",
    "\n",
    "One of the critical features of $RNNs$ and $LSTMs$ is that they work on sequences of data. In the lecture notes we saw that the network takes input at a time $t$ and the hiden layer state from $t-1$ and produces an output:\n",
    "\n",
    "<img src=\"https://github.com/stfc-sciml/sciml-workshop/blob/master/course_3.0_with_solutions/markdown_pic/lstms-1.png?raw=1\" alt=\"lstms-1\" width=\"500\"/>\n",
    "\n",
    "However we may also want to include measured data from further back in time to help with remembering; so we could want input data from $t-1 \\cdots t-n$. We might also have more than one channel of input data, this is called the  **window** of the data. Imagine for example we were predicting stock prices, we could have the history of that stock, but we might also want to know the central bank interest rate, or the strength of one currency relative to another, in this case we have a **multi-variate** problem. So our input data looks more like:\n",
    "\n",
    "<img src=\"https://github.com/stfc-sciml/sciml-workshop/blob/master/course_3.0_with_solutions/markdown_pic/lstms-2.png?raw=1\" alt=\"lstms-2\" width=\"500\"/>\n",
    "\n",
    "\n",
    "Also, we might also want to make our $LSTM$ predict more than just one step forward, so we will want to be able to have multiple steps in the output."
   ]
  },
  {
   "cell_type": "markdown",
   "metadata": {},
   "source": [
    "We write a function to convert dataframe series into data that is suitable for $LSTM$ training. This function is quite flexible and can be useful in many scenarios, so it is one that you might like to reuse in future if you are training time series models.\n",
    "\n",
    "As input we pass the data as a `numpy` array. We then also specify how far back in time we wish to look for each prediction `n_in`, so `n_in = 1` means we take just $t$ as input, `n_in=2` means we take $t, t-1$ as input and so on. We specify how far into the future we wish to predict, with the `n_out` variable. `n_out=1` means we predict for $t$, `n_out=2` means we predict for $t, t+1$ and so on. In addition to the window sizes, we can also select the features (columns in the data) to use with the `feature_indices` argument. \n",
    "\n",
    "The series data can be infinitely long while the memory of our LSTM cannot not be infinitely large. Therefore, we need to specify the length of the LSTM, or the `timesteps`, which is usually much smaller than the total length of the series. The first dimension of the outputs (`X` and `y` for `TensorFlow`) is `batch`; time-dependency is ignored among the batches (i.e., they can be shuffled)."
   ]
  },
  {
   "cell_type": "code",
   "execution_count": 4,
   "metadata": {
    "id": "iaz0Sbv8cqPZ"
   },
   "outputs": [],
   "source": [
    "def series_to_tensorflow(data, timesteps=10, n_in=1, n_out=1, feature_indices=None):\n",
    "    \"\"\"\n",
    "    Convert a series to tensorflow input.\n",
    "    Arguments:\n",
    "       data: Sequence of observations as a 2D NumPy array of shape (n_times, n_features)\n",
    "       n_in: Window size of input X\n",
    "       n_out: Window size of output y\n",
    "       feature_indices: select features by indices; pass None to use all features\n",
    "       timesteps: timesteps of LSTM\n",
    "    Returns:\n",
    "       X and y for tensorflow.keras.layers.LSTM\n",
    "    \"\"\"\n",
    "    # sizes\n",
    "    n_total_times, n_total_features = data.shape[0], data.shape[1]\n",
    "    n_batches = n_total_times - timesteps - (n_in - 1) - (n_out - 1)\n",
    "    \n",
    "    # feature selection\n",
    "    if feature_indices is None:\n",
    "        feature_indices = list(range(n_total_features))\n",
    "    \n",
    "    # data\n",
    "    X = np.zeros((n_batches, timesteps, n_in, len(feature_indices)), dtype='float32')\n",
    "    y = np.zeros((n_batches, n_out, len(feature_indices)), dtype='float32')\n",
    "    for i_batch in range(n_batches):\n",
    "        for i_in in range(n_in):\n",
    "            X_start = i_batch + i_in\n",
    "            X[i_batch, :, i_in, :] = data[X_start:X_start + timesteps, feature_indices]\n",
    "        y_start = i_batch + timesteps + n_in - 1\n",
    "        y[i_batch, :, :] = data[y_start:y_start + n_out, feature_indices]\n",
    "    \n",
    "    # flatten the last two dimensions\n",
    "    return X.reshape(n_batches, timesteps, -1), y.reshape(n_batches, -1)"
   ]
  },
  {
   "cell_type": "markdown",
   "metadata": {
    "id": "0MIURIiecqPb"
   },
   "source": [
    "<a id='simple_lstm'></a>\n",
    "\n",
    "## A multi-variate LSTM\n",
    "\n",
    "### Importing and treating the data\n",
    "\n",
    "We first read in our data and inspect it using `pandas`.\n"
   ]
  },
  {
   "cell_type": "code",
   "execution_count": 5,
   "metadata": {
    "id": "2zhnRepbcqPb"
   },
   "outputs": [],
   "source": [
    "# Importing the training set\n",
    "dataset_train = pd.read_csv(data_path + '/lstm-data/data-train-lstm.csv')"
   ]
  },
  {
   "cell_type": "code",
   "execution_count": 6,
   "metadata": {
    "colab": {
     "base_uri": "https://localhost:8080/",
     "height": 204
    },
    "id": "C57mZoWxcqPc",
    "outputId": "f9210dc5-f54e-4eab-b03a-eeee6403562d",
    "scrolled": true
   },
   "outputs": [
    {
     "data": {
      "text/html": [
       "<div>\n",
       "<style scoped>\n",
       "    .dataframe tbody tr th:only-of-type {\n",
       "        vertical-align: middle;\n",
       "    }\n",
       "\n",
       "    .dataframe tbody tr th {\n",
       "        vertical-align: top;\n",
       "    }\n",
       "\n",
       "    .dataframe thead th {\n",
       "        text-align: right;\n",
       "    }\n",
       "</style>\n",
       "<table border=\"1\" class=\"dataframe\">\n",
       "  <thead>\n",
       "    <tr style=\"text-align: right;\">\n",
       "      <th></th>\n",
       "      <th>Date</th>\n",
       "      <th>Open</th>\n",
       "      <th>High</th>\n",
       "      <th>Low</th>\n",
       "      <th>Last</th>\n",
       "      <th>Close</th>\n",
       "      <th>Total Trade Quantity</th>\n",
       "      <th>Turnover (Lacs)</th>\n",
       "    </tr>\n",
       "  </thead>\n",
       "  <tbody>\n",
       "    <tr>\n",
       "      <th>0</th>\n",
       "      <td>2018-09-28</td>\n",
       "      <td>234.05</td>\n",
       "      <td>235.95</td>\n",
       "      <td>230.20</td>\n",
       "      <td>233.50</td>\n",
       "      <td>233.75</td>\n",
       "      <td>3069914</td>\n",
       "      <td>7162.35</td>\n",
       "    </tr>\n",
       "    <tr>\n",
       "      <th>1</th>\n",
       "      <td>2018-09-27</td>\n",
       "      <td>234.55</td>\n",
       "      <td>236.80</td>\n",
       "      <td>231.10</td>\n",
       "      <td>233.80</td>\n",
       "      <td>233.25</td>\n",
       "      <td>5082859</td>\n",
       "      <td>11859.95</td>\n",
       "    </tr>\n",
       "    <tr>\n",
       "      <th>2</th>\n",
       "      <td>2018-09-26</td>\n",
       "      <td>240.00</td>\n",
       "      <td>240.00</td>\n",
       "      <td>232.50</td>\n",
       "      <td>235.00</td>\n",
       "      <td>234.25</td>\n",
       "      <td>2240909</td>\n",
       "      <td>5248.60</td>\n",
       "    </tr>\n",
       "    <tr>\n",
       "      <th>3</th>\n",
       "      <td>2018-09-25</td>\n",
       "      <td>233.30</td>\n",
       "      <td>236.75</td>\n",
       "      <td>232.00</td>\n",
       "      <td>236.25</td>\n",
       "      <td>236.10</td>\n",
       "      <td>2349368</td>\n",
       "      <td>5503.90</td>\n",
       "    </tr>\n",
       "    <tr>\n",
       "      <th>4</th>\n",
       "      <td>2018-09-24</td>\n",
       "      <td>233.55</td>\n",
       "      <td>239.20</td>\n",
       "      <td>230.75</td>\n",
       "      <td>234.00</td>\n",
       "      <td>233.30</td>\n",
       "      <td>3423509</td>\n",
       "      <td>7999.55</td>\n",
       "    </tr>\n",
       "  </tbody>\n",
       "</table>\n",
       "</div>"
      ],
      "text/plain": [
       "         Date    Open    High     Low    Last   Close  Total Trade Quantity  \\\n",
       "0  2018-09-28  234.05  235.95  230.20  233.50  233.75               3069914   \n",
       "1  2018-09-27  234.55  236.80  231.10  233.80  233.25               5082859   \n",
       "2  2018-09-26  240.00  240.00  232.50  235.00  234.25               2240909   \n",
       "3  2018-09-25  233.30  236.75  232.00  236.25  236.10               2349368   \n",
       "4  2018-09-24  233.55  239.20  230.75  234.00  233.30               3423509   \n",
       "\n",
       "   Turnover (Lacs)  \n",
       "0          7162.35  \n",
       "1         11859.95  \n",
       "2          5248.60  \n",
       "3          5503.90  \n",
       "4          7999.55  "
      ]
     },
     "execution_count": 6,
     "metadata": {},
     "output_type": "execute_result"
    }
   ],
   "source": [
    "dataset_train.head()"
   ]
  },
  {
   "cell_type": "code",
   "execution_count": 7,
   "metadata": {},
   "outputs": [
    {
     "name": "stdout",
     "output_type": "stream",
     "text": [
      "Dimensions of raw data: (n_times, n_features) = (2035, 8)\n"
     ]
    }
   ],
   "source": [
    "print(f'Dimensions of raw data: (n_times, n_features) = {dataset_train.shape}')"
   ]
  },
  {
   "cell_type": "markdown",
   "metadata": {
    "id": "Lu6MKgKKcqPd"
   },
   "source": [
    "In the next cell, we get rid of the `Date` column (the first column) and normalize the rest price columns to `[0, 1]` using `MinMaxScaler` from `scikit-learn`."
   ]
  },
  {
   "cell_type": "code",
   "execution_count": 8,
   "metadata": {
    "id": "fitXgmTAcqPd"
   },
   "outputs": [],
   "source": [
    "# drop `Date` column\n",
    "values = dataset_train.drop(dataset_train.columns[[0,]], axis=1).values\n",
    "\n",
    "# normalize prices\n",
    "scaler = MinMaxScaler(feature_range=(0, 1))\n",
    "scaled = scaler.fit_transform(values)"
   ]
  },
  {
   "cell_type": "code",
   "execution_count": 9,
   "metadata": {},
   "outputs": [
    {
     "name": "stdout",
     "output_type": "stream",
     "text": [
      "Dimensions of normalized price data: (n_times, n_features) = (2035, 7)\n"
     ]
    }
   ],
   "source": [
    "print(f'Dimensions of normalized price data: (n_times, n_features) = {scaled.shape}')"
   ]
  },
  {
   "cell_type": "markdown",
   "metadata": {
    "id": "ugmmIj_BcqPd"
   },
   "source": [
    "### Converting to $LSTM$ structure data\n",
    "\n",
    "\n",
    "We now want to convert the data to a structure that can be fed to the $LSTM$. To do this we use our `series_to_tensorflow` function. In this case, we use 80 as the `timesteps`, looking back 8 steps (`n_in=8`) and projecting forward 4 steps (`n_out=4`) and considering the `Open` and `Close` prices (i.e., `feature_indices=[0, 4]`). "
   ]
  },
  {
   "cell_type": "code",
   "execution_count": 10,
   "metadata": {
    "colab": {
     "base_uri": "https://localhost:8080/"
    },
    "id": "6inbjtqpcqPe",
    "outputId": "febcfa1a-43fe-4e23-c67a-7afd4bc7cd6b"
   },
   "outputs": [
    {
     "name": "stdout",
     "output_type": "stream",
     "text": [
      "Dimensions of X_train: (batches, timesteps, features) = (1945, 80, 16)\n",
      "Dimensions of y_train: (batches, features) = (1945, 8)\n"
     ]
    }
   ],
   "source": [
    "timesteps = 80\n",
    "n_in = 8\n",
    "n_out = 4\n",
    "feature_indices = [0, 4]\n",
    "\n",
    "X_train, y_train = series_to_tensorflow(scaled, timesteps=timesteps, \n",
    "                                        n_in=n_in, n_out=n_out, feature_indices=feature_indices)\n",
    "print(f'Dimensions of X_train: (batches, timesteps, features) = {X_train.shape}')\n",
    "print(f'Dimensions of y_train: (batches, features) = {y_train.shape}')"
   ]
  },
  {
   "cell_type": "markdown",
   "metadata": {
    "id": "He68IW0qcqPf"
   },
   "source": [
    "### Building the network\n",
    "<a id='build_lstm'></a>\n",
    "\n",
    "Note that as before we start off from a `Sequential` type model in `Keras`.\n",
    "\n",
    "The $LSTM$ layers are already coded in `Keras` so we do not need to worry about writing the complicated structure. We just need to consider a few hyper-parametes we want to set,\n",
    "\n",
    "* Number of LSTM layers - we can stack LSTM layers in this case we will start with 2 stacked LSTMs;\n",
    "* units - this is the dimensionality of the hidden state and memory cell of the LSTM;\n",
    "* return_sequences - should we return the full output sequence or just the final value in the sequence. Generally, if the LSTM layer is feeding to another layer in the network, this would be `True`; if the LSTM layer is the final layer then this is `False`; note default is `False`."
   ]
  },
  {
   "cell_type": "code",
   "execution_count": 11,
   "metadata": {
    "id": "wfCnikimcqPf"
   },
   "outputs": [],
   "source": [
    "# Initialising the LSTM\n",
    "regressor = Sequential()\n",
    "\n",
    "# Adding the first LSTM layer\n",
    "# shape: (N, 80, 16) => (N, 80, 50)\n",
    "regressor.add(LSTM(units=50, return_sequences=True, dropout=0.4,\n",
    "                   input_shape=(X_train.shape[1], X_train.shape[2])))\n",
    "\n",
    "# Adding a second LSTM layer\n",
    "# shape: (N, 80, 50) => (N, 24)\n",
    "regressor.add(LSTM(units=24, return_sequences=False, dropout=0.4,))\n",
    "\n",
    "# Adding an output layer \n",
    "# shape: (N, 24) => (N, 8)\n",
    "regressor.add(Dense(units=y_train.shape[1]))"
   ]
  },
  {
   "cell_type": "markdown",
   "metadata": {
    "id": "-pDxl6sjcqPg"
   },
   "source": [
    "### Compile the network\n",
    "\n",
    "As ususal we need to compile the network, choosing an optimiser and a loss function. \n",
    "\n",
    "We use `adam` as our optimiser and `mean_squared_error` as our loss."
   ]
  },
  {
   "cell_type": "code",
   "execution_count": 12,
   "metadata": {
    "id": "KbiDJj3tcqPg"
   },
   "outputs": [],
   "source": [
    "# Compiling the RNN\n",
    "regressor.compile(optimizer='adam', loss='mean_squared_error')"
   ]
  },
  {
   "cell_type": "markdown",
   "metadata": {
    "id": "_zdioBcfcqPg"
   },
   "source": [
    "### Train the network"
   ]
  },
  {
   "cell_type": "code",
   "execution_count": 13,
   "metadata": {
    "colab": {
     "base_uri": "https://localhost:8080/"
    },
    "id": "0p6_8SYTcqPg",
    "outputId": "2db8a6a7-fbbf-4da9-b29f-0561f1c16609"
   },
   "outputs": [
    {
     "name": "stdout",
     "output_type": "stream",
     "text": [
      "Epoch 1/30\n",
      "16/16 [==============================] - 4s 70ms/step - loss: 0.0421\n",
      "Epoch 2/30\n",
      "16/16 [==============================] - 1s 68ms/step - loss: 0.0093\n",
      "Epoch 3/30\n",
      "16/16 [==============================] - 1s 67ms/step - loss: 0.0049\n",
      "Epoch 4/30\n",
      "16/16 [==============================] - 1s 63ms/step - loss: 0.0036\n",
      "Epoch 5/30\n",
      "16/16 [==============================] - 1s 78ms/step - loss: 0.0032\n",
      "Epoch 6/30\n",
      "16/16 [==============================] - 1s 67ms/step - loss: 0.0030\n",
      "Epoch 7/30\n",
      "16/16 [==============================] - 1s 69ms/step - loss: 0.0028\n",
      "Epoch 8/30\n",
      "16/16 [==============================] - 1s 65ms/step - loss: 0.0028\n",
      "Epoch 9/30\n",
      "16/16 [==============================] - 1s 65ms/step - loss: 0.0026\n",
      "Epoch 10/30\n",
      "16/16 [==============================] - 1s 65ms/step - loss: 0.0025\n",
      "Epoch 11/30\n",
      "16/16 [==============================] - 1s 65ms/step - loss: 0.0025\n",
      "Epoch 12/30\n",
      "16/16 [==============================] - 1s 68ms/step - loss: 0.0026\n",
      "Epoch 13/30\n",
      "16/16 [==============================] - 1s 75ms/step - loss: 0.0024\n",
      "Epoch 14/30\n",
      "16/16 [==============================] - 1s 65ms/step - loss: 0.0025\n",
      "Epoch 15/30\n",
      "16/16 [==============================] - 1s 66ms/step - loss: 0.0023\n",
      "Epoch 16/30\n",
      "16/16 [==============================] - 1s 66ms/step - loss: 0.0022\n",
      "Epoch 17/30\n",
      "16/16 [==============================] - 1s 76ms/step - loss: 0.0022\n",
      "Epoch 18/30\n",
      "16/16 [==============================] - 1s 85ms/step - loss: 0.0022\n",
      "Epoch 19/30\n",
      "16/16 [==============================] - 1s 90ms/step - loss: 0.0022\n",
      "Epoch 20/30\n",
      "16/16 [==============================] - 1s 73ms/step - loss: 0.0022\n",
      "Epoch 21/30\n",
      "16/16 [==============================] - 1s 78ms/step - loss: 0.0021\n",
      "Epoch 22/30\n",
      "16/16 [==============================] - 1s 61ms/step - loss: 0.0020\n",
      "Epoch 23/30\n",
      "16/16 [==============================] - 1s 65ms/step - loss: 0.0021\n",
      "Epoch 24/30\n",
      "16/16 [==============================] - 1s 65ms/step - loss: 0.0021\n",
      "Epoch 25/30\n",
      "16/16 [==============================] - 1s 63ms/step - loss: 0.0021\n",
      "Epoch 26/30\n",
      "16/16 [==============================] - 1s 62ms/step - loss: 0.0020\n",
      "Epoch 27/30\n",
      "16/16 [==============================] - 1s 61ms/step - loss: 0.0019\n",
      "Epoch 28/30\n",
      "16/16 [==============================] - 1s 72ms/step - loss: 0.0021\n",
      "Epoch 29/30\n",
      "16/16 [==============================] - 1s 81ms/step - loss: 0.0020\n",
      "Epoch 30/30\n",
      "16/16 [==============================] - 1s 63ms/step - loss: 0.0019\n"
     ]
    }
   ],
   "source": [
    "# Fitting the RNN to the Training set\n",
    "history = regressor.fit(X_train, y_train, epochs=30, batch_size=128)"
   ]
  },
  {
   "cell_type": "code",
   "execution_count": 14,
   "metadata": {
    "colab": {
     "base_uri": "https://localhost:8080/",
     "height": 462
    },
    "id": "mE-ngYaOcqPh",
    "outputId": "48908b70-2d3c-44d0-d3a7-8d69ae3ad86f"
   },
   "outputs": [
    {
     "data": {
      "image/png": "[encoded data removed]",
      "text/plain": [
       "<Figure size 600x400 with 1 Axes>"
      ]
     },
     "metadata": {},
     "output_type": "display_data"
    }
   ],
   "source": [
    "plt.figure(dpi=100)\n",
    "plt.plot(history.history['loss'])\n",
    "plt.xlabel('epoch')\n",
    "plt.ylabel('mae')\n",
    "plt.show()"
   ]
  },
  {
   "cell_type": "markdown",
   "metadata": {
    "id": "-Qegdaf2cqPh"
   },
   "source": [
    "### Making predictions with our model\n",
    "\n",
    "We now use model that we just built to predict on previously un-seen data. We read in `data-test.csv` and get the stock prices from that data.\n"
   ]
  },
  {
   "cell_type": "code",
   "execution_count": 15,
   "metadata": {
    "id": "P4a_AFTMcqPh"
   },
   "outputs": [
    {
     "name": "stdout",
     "output_type": "stream",
     "text": [
      "(16, 8)\n"
     ]
    }
   ],
   "source": [
    "# Part 3 - Making the predictions and visualising the results\n",
    "\n",
    "# Getting the real stock price of 2017\n",
    "dataset_test = pd.read_csv(data_path + 'lstm-data/data-test-lstm.csv')\n",
    "real_stock_price = dataset_test.iloc[:, 1:2].values\n",
    "print(dataset_test.shape)"
   ]
  },
  {
   "cell_type": "code",
   "execution_count": 16,
   "metadata": {},
   "outputs": [
    {
     "data": {
      "text/html": [
       "<div>\n",
       "<style scoped>\n",
       "    .dataframe tbody tr th:only-of-type {\n",
       "        vertical-align: middle;\n",
       "    }\n",
       "\n",
       "    .dataframe tbody tr th {\n",
       "        vertical-align: top;\n",
       "    }\n",
       "\n",
       "    .dataframe thead th {\n",
       "        text-align: right;\n",
       "    }\n",
       "</style>\n",
       "<table border=\"1\" class=\"dataframe\">\n",
       "  <thead>\n",
       "    <tr style=\"text-align: right;\">\n",
       "      <th></th>\n",
       "      <th>Date</th>\n",
       "      <th>Open</th>\n",
       "      <th>High</th>\n",
       "      <th>Low</th>\n",
       "      <th>Last</th>\n",
       "      <th>Close</th>\n",
       "      <th>Total Trade Quantity</th>\n",
       "      <th>Turnover (Lacs)</th>\n",
       "    </tr>\n",
       "  </thead>\n",
       "  <tbody>\n",
       "    <tr>\n",
       "      <th>0</th>\n",
       "      <td>2018-10-24</td>\n",
       "      <td>220.10</td>\n",
       "      <td>221.25</td>\n",
       "      <td>217.05</td>\n",
       "      <td>219.55</td>\n",
       "      <td>219.80</td>\n",
       "      <td>2171956</td>\n",
       "      <td>4771.34</td>\n",
       "    </tr>\n",
       "    <tr>\n",
       "      <th>1</th>\n",
       "      <td>2018-10-23</td>\n",
       "      <td>221.10</td>\n",
       "      <td>222.20</td>\n",
       "      <td>214.75</td>\n",
       "      <td>219.55</td>\n",
       "      <td>218.30</td>\n",
       "      <td>1416279</td>\n",
       "      <td>3092.15</td>\n",
       "    </tr>\n",
       "    <tr>\n",
       "      <th>2</th>\n",
       "      <td>2018-10-22</td>\n",
       "      <td>229.45</td>\n",
       "      <td>231.60</td>\n",
       "      <td>222.00</td>\n",
       "      <td>223.05</td>\n",
       "      <td>223.25</td>\n",
       "      <td>3529711</td>\n",
       "      <td>8028.37</td>\n",
       "    </tr>\n",
       "    <tr>\n",
       "      <th>3</th>\n",
       "      <td>2018-10-19</td>\n",
       "      <td>230.30</td>\n",
       "      <td>232.70</td>\n",
       "      <td>225.50</td>\n",
       "      <td>227.75</td>\n",
       "      <td>227.20</td>\n",
       "      <td>1527904</td>\n",
       "      <td>3490.78</td>\n",
       "    </tr>\n",
       "    <tr>\n",
       "      <th>4</th>\n",
       "      <td>2018-10-17</td>\n",
       "      <td>237.70</td>\n",
       "      <td>240.80</td>\n",
       "      <td>229.45</td>\n",
       "      <td>231.30</td>\n",
       "      <td>231.10</td>\n",
       "      <td>2945914</td>\n",
       "      <td>6961.65</td>\n",
       "    </tr>\n",
       "  </tbody>\n",
       "</table>\n",
       "</div>"
      ],
      "text/plain": [
       "         Date    Open    High     Low    Last   Close  Total Trade Quantity  \\\n",
       "0  2018-10-24  220.10  221.25  217.05  219.55  219.80               2171956   \n",
       "1  2018-10-23  221.10  222.20  214.75  219.55  218.30               1416279   \n",
       "2  2018-10-22  229.45  231.60  222.00  223.05  223.25               3529711   \n",
       "3  2018-10-19  230.30  232.70  225.50  227.75  227.20               1527904   \n",
       "4  2018-10-17  237.70  240.80  229.45  231.30  231.10               2945914   \n",
       "\n",
       "   Turnover (Lacs)  \n",
       "0          4771.34  \n",
       "1          3092.15  \n",
       "2          8028.37  \n",
       "3          3490.78  \n",
       "4          6961.65  "
      ]
     },
     "execution_count": 16,
     "metadata": {},
     "output_type": "execute_result"
    }
   ],
   "source": [
    "dataset_test.head()"
   ]
  },
  {
   "cell_type": "markdown",
   "metadata": {},
   "source": [
    "The testing data contain 16 time steps. We will concatenate them to the training data for time extension. "
   ]
  },
  {
   "cell_type": "code",
   "execution_count": 17,
   "metadata": {},
   "outputs": [
    {
     "name": "stdout",
     "output_type": "stream",
     "text": [
      "Dimensions of normalized price data: (n_times, n_features) = (2051, 7)\n"
     ]
    }
   ],
   "source": [
    "# Getting the predicted stock price of 2017\n",
    "dataset_extended = pd.concat((dataset_train, dataset_test), axis=0)\n",
    "values_extended = dataset_extended.drop(dataset_extended.columns[[0,]], axis=1).values\n",
    "scaled_extended = scaler.transform(values_extended)\n",
    "print(f'Dimensions of normalized price data: (n_times, n_features) = {scaled_extended.shape}')"
   ]
  },
  {
   "cell_type": "code",
   "execution_count": 18,
   "metadata": {},
   "outputs": [
    {
     "name": "stdout",
     "output_type": "stream",
     "text": [
      "Dimensions of X_test: (batches, timesteps, features) = (16, 80, 16)\n",
      "Dimensions of y_test: (batches, features) = (16, 8)\n",
      "Dimensions of y_pred: (batches, features) = (16, 8)\n"
     ]
    }
   ],
   "source": [
    "# using the last points to generate testing data\n",
    "X_test, y_test = series_to_tensorflow(scaled_extended[-(timesteps + n_in + n_out - 2 + len(dataset_test)):], \n",
    "                                      timesteps=timesteps,\n",
    "                                      n_in=n_in, n_out=n_out, feature_indices=feature_indices)\n",
    "\n",
    "# make predictions\n",
    "y_pred = regressor(X_test)\n",
    "print(f'Dimensions of X_test: (batches, timesteps, features) = {X_test.shape}')\n",
    "print(f'Dimensions of y_test: (batches, features) = {y_test.shape}')\n",
    "print(f'Dimensions of y_pred: (batches, features) = {y_pred.shape}')"
   ]
  },
  {
   "cell_type": "code",
   "execution_count": 19,
   "metadata": {
    "colab": {
     "base_uri": "https://localhost:8080/",
     "height": 462
    },
    "id": "AcrVDx2-cqPi",
    "outputId": "d3073c8f-2531-481b-8fb5-f89df94f3412"
   },
   "outputs": [
    {
     "data": {
      "image/png": "[encoded data removed]",
      "text/plain": [
       "<Figure size 1000x300 with 2 Axes>"
      ]
     },
     "metadata": {},
     "output_type": "display_data"
    }
   ],
   "source": [
    "# Visualising the results\n",
    "fig, ax = plt.subplots(1, len(feature_indices), dpi=100, \n",
    "                       figsize=(5 * len(feature_indices), 3), squeeze=False)\n",
    "for i, index in enumerate(feature_indices):\n",
    "    # we are ploting the last point from the output window\n",
    "    ax[0, i].plot(y_test[:, i + (n_out - 1) * len(feature_indices)], \n",
    "                  label = 'Real ' + dataset_train.keys()[index + 1])\n",
    "    ax[0, i].plot(y_pred[:, i + (n_out - 1) * len(feature_indices)], \n",
    "                  label = 'Pred ' + dataset_train.keys()[index + 1])\n",
    "    ax[0, i].legend()\n",
    "plt.show()"
   ]
  },
  {
   "cell_type": "markdown",
   "metadata": {
    "id": "F_EpvUpqcqPi"
   },
   "source": [
    "### Exercise\n",
    "\n",
    "* Build a network with three or four $LSTM$ layers. How does this affect the performance?\n",
    "* Change the LSTM timesteps (`timesteps`) - how does a longer/shorter one affect the predictions?\n",
    "* Try other window sizes and features.\n"
   ]
  },
  {
   "cell_type": "code",
   "execution_count": null,
   "metadata": {
    "id": "Eo6Puc5tcqPm"
   },
   "outputs": [],
   "source": []
  }
 ],
 "metadata": {
  "colab": {
   "name": "lstm_basics.ipynb",
   "provenance": []
  },
  "kernelspec": {
   "display_name": "Python 3",
   "language": "python",
   "name": "python3"
  },
  "language_info": {
   "codemirror_mode": {
    "name": "ipython",
    "version": 3
   },
   "file_extension": ".py",
   "mimetype": "text/x-python",
   "name": "python",
   "nbconvert_exporter": "python",
   "pygments_lexer": "ipython3",
   "version": "3.8.10"
  }
 },
 "nbformat": 4,
 "nbformat_minor": 4
}
